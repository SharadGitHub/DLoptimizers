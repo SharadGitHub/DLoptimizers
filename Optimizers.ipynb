{
 "cells": [
  {
   "cell_type": "markdown",
   "metadata": {},
   "source": [
    "## Optimizers"
   ]
  },
  {
   "cell_type": "code",
   "execution_count": 1,
   "metadata": {},
   "outputs": [],
   "source": [
    "import torch\n",
    "import numpy as np\n",
    "import torch.nn as nn\n",
    "import torchvision.datasets as datasets\n",
    "import torchvision.transforms as transforms\n",
    "import matplotlib.pyplot as plt\n",
    "import torch.nn.functional as F\n",
    "import torch.optim as optim\n",
    "import pdb\n",
    "import matplotlib.pyplot as plt\n",
    "import matplotlib\n",
    "%matplotlib inline\n",
    "matplotlib.rcParams['figure.figsize'] = 15, 7"
   ]
  },
  {
   "cell_type": "code",
   "execution_count": 2,
   "metadata": {},
   "outputs": [
    {
     "data": {
      "text/plain": [
       "device(type='cpu')"
      ]
     },
     "execution_count": 2,
     "metadata": {},
     "output_type": "execute_result"
    }
   ],
   "source": [
    "device = torch.device(\"cuda:0\" if torch.cuda.is_available() else \"cpu\")\n",
    "device"
   ]
  },
  {
   "cell_type": "code",
   "execution_count": 3,
   "metadata": {},
   "outputs": [
    {
     "name": "stdout",
     "output_type": "stream",
     "text": [
      "Downloading http://yann.lecun.com/exdb/mnist/train-images-idx3-ubyte.gz to ./data\\MNIST\\raw\\train-images-idx3-ubyte.gz\n"
     ]
    },
    {
     "name": "stderr",
     "output_type": "stream",
     "text": [
      " 97%|█████████████████████████████████████████████████████████████████▎ | 9658368/9912422 [00:11<00:00, 2366133.89it/s]"
     ]
    },
    {
     "name": "stdout",
     "output_type": "stream",
     "text": [
      "Extracting ./data\\MNIST\\raw\\train-images-idx3-ubyte.gz\n",
      "Downloading http://yann.lecun.com/exdb/mnist/train-labels-idx1-ubyte.gz to ./data\\MNIST\\raw\\train-labels-idx1-ubyte.gz\n"
     ]
    },
    {
     "name": "stderr",
     "output_type": "stream",
     "text": [
      "\n",
      "0it [00:00, ?it/s]\n",
      "  0%|                                                                                        | 0/28881 [00:00<?, ?it/s]\n",
      "32768it [00:00, 94930.30it/s]                                                                                          "
     ]
    },
    {
     "name": "stdout",
     "output_type": "stream",
     "text": [
      "Extracting ./data\\MNIST\\raw\\train-labels-idx1-ubyte.gz\n",
      "Downloading http://yann.lecun.com/exdb/mnist/t10k-images-idx3-ubyte.gz to ./data\\MNIST\\raw\\t10k-images-idx3-ubyte.gz\n"
     ]
    },
    {
     "name": "stderr",
     "output_type": "stream",
     "text": [
      "\n",
      "0it [00:00, ?it/s]\n",
      "  0%|                                                                                      | 0/1648877 [00:00<?, ?it/s]\n",
      "  1%|▋                                                                     | 16384/1648877 [00:00<00:13, 125113.52it/s]\n",
      "  3%|██                                                                    | 49152/1648877 [00:00<00:10, 151833.25it/s]\n",
      "  5%|███▊                                                                  | 90112/1648877 [00:00<00:08, 176286.77it/s]\n",
      "  9%|██████▌                                                              | 155648/1648877 [00:00<00:06, 225250.12it/s]\n",
      " 11%|███████▉                                                             | 188416/1648877 [00:00<00:06, 209310.68it/s]\n",
      " 15%|██████████▋                                                          | 253952/1648877 [00:01<00:05, 261400.39it/s]\n",
      " 18%|████████████▎                                                        | 294912/1648877 [00:01<00:05, 238005.02it/s]\n",
      " 21%|██████████████▋                                                      | 352256/1648877 [00:01<00:04, 287700.76it/s]\n",
      " 24%|████████████████▍                                                    | 393216/1648877 [00:01<00:04, 311616.28it/s]\n",
      " 26%|██████████████████▏                                                  | 434176/1648877 [00:01<00:03, 331527.77it/s]\n",
      " 29%|███████████████████▉                                                 | 475136/1648877 [00:01<00:03, 318115.97it/s]\n",
      " 32%|█████████████████████▉                                               | 524288/1648877 [00:01<00:03, 314263.35it/s]\n",
      " 34%|███████████████████████▋                                             | 565248/1648877 [00:01<00:03, 334708.61it/s]\n",
      " 37%|█████████████████████████▎                                           | 606208/1648877 [00:02<00:02, 352561.93it/s]\n",
      " 39%|███████████████████████████                                          | 647168/1648877 [00:02<00:02, 355277.12it/s]\n",
      " 42%|████████████████████████████▊                                        | 688128/1648877 [00:02<00:02, 366055.59it/s]\n",
      " 44%|██████████████████████████████▌                                      | 729088/1648877 [00:02<00:02, 374047.44it/s]\n",
      " 47%|████████████████████████████████▏                                    | 770048/1648877 [00:02<00:02, 379859.14it/s]\n",
      " 49%|█████████████████████████████████▉                                   | 811008/1648877 [00:02<00:02, 383993.73it/s]\n",
      " 52%|███████████████████████████████████▋                                 | 851968/1648877 [00:02<00:02, 389271.27it/s]\n",
      " 55%|█████████████████████████████████████▋                               | 901120/1648877 [00:02<00:01, 385272.18it/s]\n",
      " 58%|███████████████████████████████████████▊                             | 950272/1648877 [00:02<00:01, 396312.41it/s]\n",
      " 61%|█████████████████████████████████████████▊                           | 999424/1648877 [00:03<00:01, 415259.14it/s]\n",
      " 64%|███████████████████████████████████████████▏                        | 1048576/1648877 [00:03<00:02, 279269.89it/s]\n",
      " 67%|█████████████████████████████████████████████▎                      | 1097728/1648877 [00:03<00:01, 318988.19it/s]\n",
      " 69%|██████████████████████████████████████████████▉                     | 1138688/1648877 [00:03<00:01, 337503.56it/s]\n",
      " 72%|████████████████████████████████████████████████▋                   | 1179648/1648877 [00:03<00:01, 350869.04it/s]\n",
      " 74%|██████████████████████████████████████████████████▎                 | 1220608/1648877 [00:03<00:01, 362801.82it/s]\n",
      " 77%|████████████████████████████████████████████████████                | 1261568/1648877 [00:03<00:01, 373190.33it/s]\n",
      " 79%|█████████████████████████████████████████████████████▋              | 1302528/1648877 [00:03<00:00, 374954.62it/s]\n",
      " 81%|███████████████████████████████████████████████████████▍            | 1343488/1648877 [00:04<00:00, 381236.56it/s]\n",
      " 84%|█████████████████████████████████████████████████████████           | 1384448/1648877 [00:04<00:00, 384149.79it/s]\n",
      " 86%|██████████████████████████████████████████████████████████▊         | 1425408/1648877 [00:04<00:00, 386997.89it/s]\n",
      " 89%|████████████████████████████████████████████████████████████▍       | 1466368/1648877 [00:04<00:00, 389245.55it/s]\n",
      " 91%|██████████████████████████████████████████████████████████████▏     | 1507328/1648877 [00:04<00:00, 390611.90it/s]\n",
      " 94%|███████████████████████████████████████████████████████████████▊    | 1548288/1648877 [00:04<00:00, 392704.56it/s]\n",
      " 96%|█████████████████████████████████████████████████████████████████▌  | 1589248/1648877 [00:04<00:00, 395402.67it/s]\n",
      " 99%|███████████████████████████████████████████████████████████████████▏| 1630208/1648877 [00:04<00:00, 396145.14it/s]\n",
      "1654784it [00:04, 344777.70it/s]                                                                                       "
     ]
    },
    {
     "name": "stdout",
     "output_type": "stream",
     "text": [
      "Extracting ./data\\MNIST\\raw\\t10k-images-idx3-ubyte.gz\n",
      "Downloading http://yann.lecun.com/exdb/mnist/t10k-labels-idx1-ubyte.gz to ./data\\MNIST\\raw\\t10k-labels-idx1-ubyte.gz\n"
     ]
    },
    {
     "name": "stderr",
     "output_type": "stream",
     "text": [
      "\n",
      "0it [00:00, ?it/s]\n",
      "  0%|                                                                                         | 0/4542 [00:00<?, ?it/s]\n",
      "8192it [00:00, 30696.76it/s]                                                                                           "
     ]
    },
    {
     "name": "stdout",
     "output_type": "stream",
     "text": [
      "Extracting ./data\\MNIST\\raw\\t10k-labels-idx1-ubyte.gz\n",
      "Processing...\n",
      "Done!\n"
     ]
    }
   ],
   "source": [
    "# load data from torchvision module\n",
    "train_set = datasets.MNIST(\n",
    "    root = './data',\n",
    "    train = True,\n",
    "    download = True,\n",
    "    transform = transforms.Compose([transforms.ToTensor(), transforms.Normalize((0.1307,), (0.3081,))])\n",
    ")\n",
    "\n",
    "test_set = datasets.MNIST(\n",
    "    root= './data',\n",
    "    train= False,\n",
    "    download = True,\n",
    "    transform = transforms.Compose([transforms.ToTensor(), transforms.Normalize((0.1307,), (0.3081,))])\n",
    ")"
   ]
  },
  {
   "cell_type": "code",
   "execution_count": 4,
   "metadata": {},
   "outputs": [],
   "source": [
    "train_loader = torch.utils.data.DataLoader(train_set, batch_size= 256)\n"
   ]
  },
  {
   "cell_type": "code",
   "execution_count": 5,
   "metadata": {},
   "outputs": [],
   "source": [
    "class Network(nn.Module):\n",
    "    \n",
    "    def __init__(self):\n",
    "        super(Network, self).__init__()\n",
    "        self.conv1 = nn.Conv2d(in_channels=1, out_channels= 6, kernel_size= 5, stride= 1)\n",
    "        self.conv2 = nn.Conv2d(in_channels=6, out_channels= 12, kernel_size=5, stride = 1)\n",
    "        \n",
    "        self.fc1= nn.Linear(in_features=12*4*4, out_features=120)\n",
    "        self.fc2 = nn.Linear(in_features=120, out_features= 60)\n",
    "        self.out = nn.Linear(in_features=60, out_features=10)\n",
    "        \n",
    "    def forward(self, t):\n",
    "         # first hidden conv layer\n",
    "        t = self.conv1(t)\n",
    "        t = F.relu(t)\n",
    "        t = F.max_pool2d(t, kernel_size= 2, stride= 2)\n",
    "        \n",
    "        # second hidden conv layer\n",
    "        t = self.conv2(t)\n",
    "        t = F.relu(t)\n",
    "        t = F.max_pool2d(t, kernel_size= 2, stride= 2)\n",
    "        \n",
    "        # first linear layer \n",
    "        t = t.reshape(-1, 12*4*4)\n",
    "        t = self.fc1(t)\n",
    "        t = F.relu(t)\n",
    "        \n",
    "        #second linear layer\n",
    "        t = self.fc2(t)\n",
    "        t = F.relu(t)\n",
    "        \n",
    "        #output layer\n",
    "        t = self.out(t)\n",
    "        #ideally here we would use softmax function but since we are going to use cross entropy loss, softmax\n",
    "        # is not explicitly required \n",
    "        \n",
    "        return F.log_softmax(t)"
   ]
  },
  {
   "cell_type": "markdown",
   "metadata": {},
   "source": [
    "### Vanilla SGD"
   ]
  },
  {
   "cell_type": "code",
   "execution_count": 6,
   "metadata": {},
   "outputs": [
    {
     "name": "stdout",
     "output_type": "stream",
     "text": [
      "epoch 0\n"
     ]
    },
    {
     "name": "stderr",
     "output_type": "stream",
     "text": [
      "C:\\Users\\Tushara\\Anaconda3\\lib\\site-packages\\ipykernel_launcher.py:37: UserWarning: Implicit dimension choice for log_softmax has been deprecated. Change the call to include dim=X as an argument.\n",
      "9920512it [00:30, 2366133.89it/s]                                                                                      "
     ]
    },
    {
     "name": "stdout",
     "output_type": "stream",
     "text": [
      "epoch 1\n",
      "epoch 2\n"
     ]
    }
   ],
   "source": [
    "##train\n",
    "net = Network()\n",
    "net.to(device)\n",
    "\n",
    "epochs = 3 # set epohcs\n",
    "criterion = nn.NLLLoss() # define loss function\n",
    "losses = []\n",
    "net.train()\n",
    "lr = 0.01\n",
    "#weights = [(child.weight.data, child.bias.data) for child in net.children()]\n",
    "\n",
    "for epoch in range(epochs):\n",
    "    print('epoch {}'.format(epoch))\n",
    "    for idx, (images, labels) in enumerate(train_loader):\n",
    "        #weights = [(child.weight.data, child.bias.data) for child in net.children()]\n",
    "        images, labels = images.to(device), labels.to(device)\n",
    "        output = net(images)\n",
    "        loss = criterion(output, labels)\n",
    "        losses.append(loss)\n",
    "        loss.backward()\n",
    "        \n",
    "        \n",
    "        for child in net.children():\n",
    "            child.weight.data -= lr * child.weight.grad.data\n",
    "            child.bias.data -= lr * child.bias.grad.data\n",
    "        \n",
    "            #zero the gradients so that gradients dont get accumulate\n",
    "            #print(\"set gradients zero\")\n",
    "            child.weight.grad.data.zero_()\n",
    "            child.bias.grad.data.zero_()"
   ]
  },
  {
   "cell_type": "code",
   "execution_count": 7,
   "metadata": {},
   "outputs": [],
   "source": [
    "sgd_losses_ = [(l.data.item()) for l in losses]\n",
    "sgd_log_losses_ = [np.log(l) for l in sgd_losses_]"
   ]
  },
  {
   "cell_type": "code",
   "execution_count": 8,
   "metadata": {},
   "outputs": [
    {
     "data": {
      "image/png": "[encoded data removed]",
      "text/plain": [
       "<Figure size 432x288 with 1 Axes>"
      ]
     },
     "metadata": {
      "needs_background": "light"
     },
     "output_type": "display_data"
    }
   ],
   "source": [
    "plt.plot(sgd_losses_)\n",
    "title = plt.title(\"Vanilla SGD\")"
   ]
  },
  {
   "cell_type": "code",
   "execution_count": null,
   "metadata": {},
   "outputs": [],
   "source": []
  },
  {
   "cell_type": "markdown",
   "metadata": {},
   "source": [
    "### SGD with Momentum"
   ]
  },
  {
   "cell_type": "code",
   "execution_count": 9,
   "metadata": {},
   "outputs": [
    {
     "name": "stdout",
     "output_type": "stream",
     "text": [
      "epoch 0\n"
     ]
    },
    {
     "name": "stderr",
     "output_type": "stream",
     "text": [
      "C:\\Users\\Tushara\\Anaconda3\\lib\\site-packages\\ipykernel_launcher.py:37: UserWarning: Implicit dimension choice for log_softmax has been deprecated. Change the call to include dim=X as an argument.\n"
     ]
    },
    {
     "name": "stdout",
     "output_type": "stream",
     "text": [
      "epoch 1\n",
      "epoch 2\n"
     ]
    }
   ],
   "source": [
    "##train\n",
    "net = Network()\n",
    "net.to(device)\n",
    "\n",
    "epochs = 3 # set epohcs\n",
    "criterion = nn.NLLLoss() # define loss function\n",
    "losses = []\n",
    "net.train()\n",
    "\n",
    "lr = 0.001\n",
    "gamma = 0.9\n",
    "weight_v_prev = [0 for i in range(5)]\n",
    "bias_v_prev = [0 for i in range(5)]\n",
    "\n",
    "\n",
    "for epoch in range(epochs):\n",
    "    print('epoch {}'.format(epoch))\n",
    "    for idx, (images, labels) in enumerate(train_loader):\n",
    "        #weights = [(child.weight.data, child.bias.data) for child in net.children()]\n",
    "        images, labels = images.to(device), labels.to(device)\n",
    "        output = net(images)\n",
    "        loss = criterion(output, labels)\n",
    "        losses.append(loss)\n",
    "        loss.backward()\n",
    "        \n",
    "        children = list(net.children())\n",
    "        \n",
    "        #update weights\n",
    "        for i in range(len(weight_v_prev)):\n",
    "            \n",
    "            #print(\"Gradients\\n\" ,children[i].weight.grad.data)\n",
    "            weight_v_new = gamma * weight_v_prev[i] + lr * children[i].weight.grad.data\n",
    "            bias_v_new = gamma * bias_v_prev[i] + lr * children[i].bias.grad.data\n",
    "            \n",
    "            weight_v_prev[i] = weight_v_new\n",
    "            bias_v_prev[i] = bias_v_new\n",
    "            \n",
    "            children[i].weight.data -= weight_v_new\n",
    "            children[i].bias.data -= bias_v_new\n",
    "            \n",
    "            #zero the gradients so that gradients dont get accumulate\n",
    "            #print(\"set gradients zero\")\n",
    "            children[i].weight.grad.data.zero_()\n",
    "            children[i].bias.grad.data.zero_()"
   ]
  },
  {
   "cell_type": "code",
   "execution_count": 10,
   "metadata": {},
   "outputs": [],
   "source": [
    "sgdmom_losses_ = [(l.data.numpy()) for l in losses]\n",
    "sgdmom_log_losses_ = [np.log(l) for l in sgdmom_losses_]"
   ]
  },
  {
   "cell_type": "code",
   "execution_count": 11,
   "metadata": {},
   "outputs": [
    {
     "data": {
      "text/plain": [
       "<matplotlib.legend.Legend at 0x229f7215da0>"
      ]
     },
     "execution_count": 11,
     "metadata": {},
     "output_type": "execute_result"
    },
    {
     "data": {
      "image/png": "[encoded data removed]",
      "text/plain": [
       "<Figure size 432x288 with 1 Axes>"
      ]
     },
     "metadata": {
      "needs_background": "light"
     },
     "output_type": "display_data"
    }
   ],
   "source": [
    "plt.plot(sgd_losses_)\n",
    "plt.plot(sgdmom_losses_)\n",
    "title = plt.title(\"Evolution of Optimizers\")\n",
    "plt.legend(('SGD', 'SGD Momentum'))"
   ]
  },
  {
   "cell_type": "markdown",
   "metadata": {},
   "source": [
    "### Nesterov"
   ]
  },
  {
   "cell_type": "code",
   "execution_count": 15,
   "metadata": {},
   "outputs": [
    {
     "name": "stdout",
     "output_type": "stream",
     "text": [
      "epoch 0\n"
     ]
    },
    {
     "name": "stderr",
     "output_type": "stream",
     "text": [
      "C:\\Users\\Tushara\\Anaconda3\\lib\\site-packages\\ipykernel_launcher.py:37: UserWarning: Implicit dimension choice for log_softmax has been deprecated. Change the call to include dim=X as an argument.\n"
     ]
    },
    {
     "name": "stdout",
     "output_type": "stream",
     "text": [
      "epoch 1\n",
      "epoch 2\n"
     ]
    }
   ],
   "source": [
    "##train\n",
    "net = Network()\n",
    "net.to(device)\n",
    "\n",
    "epochs = 3 # set epohcs\n",
    "criterion = nn.NLLLoss() # define loss function\n",
    "losses = []\n",
    "net.train()\n",
    "\n",
    "lr = 0.001\n",
    "gamma = 0.9\n",
    "weight_v_prev = [0 for i in range(5)]\n",
    "bias_v_prev = [0 for i in range(5)]\n",
    "\n",
    "\n",
    "for epoch in range(epochs):\n",
    "    print('epoch {}'.format(epoch))\n",
    "    for idx, (images, labels) in enumerate(train_loader):\n",
    "        #weights = [(child.weight.data, child.bias.data) for child in net.children()]\n",
    "        images, labels = images.to(device), labels.to(device)\n",
    "        output = net(images)\n",
    "        loss = criterion(output, labels)\n",
    "        losses.append(loss)\n",
    "        loss.backward()\n",
    "        \n",
    "        children = list(net.children())\n",
    "        \n",
    "        \n",
    "        for i in range(len(weight_v_prev)):\n",
    "            \n",
    "            #update WEIGHT\n",
    "            # take a step ahead in momentum direction\n",
    "            original_weight = children[i].weight.data\n",
    "            children[i].weight.data -= gamma * weight_v_prev[i]\n",
    "            \n",
    "            #calculate loss and gradients \n",
    "            future_outputs = net(images)\n",
    "            future_loss = criterion(future_outputs, labels)\n",
    "            future_loss.backward(retain_graph = True)\n",
    "            future_grad = children[i].weight.grad.data\n",
    "            \n",
    "            weight_v_new = gamma * weight_v_prev[i] + lr * future_grad\n",
    "            weight_v_prev[i] = weight_v_new\n",
    "            \n",
    "            children[i].weight.data = original_weight\n",
    "            children[i].weight.data -= weight_v_new\n",
    "            \n",
    "            #zero the gradients so that gradients dont get accumulate\n",
    "            net.zero_grad()\n",
    "            #children[i].weight.grad.data.zero_()\n",
    "            \n",
    "            \n",
    "            #update BIAS\n",
    "            original_bias = children[i].bias.data\n",
    "            children[i].bias.data -= gamma * bias_v_prev[i]\n",
    "            \n",
    "            #calculate loss and gradients \n",
    "            future_outputs = net(images)\n",
    "            future_loss = criterion(future_outputs, labels)\n",
    "            future_loss.backward(retain_graph = True)\n",
    "            future_grad = children[i].bias.grad.data\n",
    "            \n",
    "            bias_v_new = gamma * bias_v_prev[i] + lr * future_grad\n",
    "            bias_v_prev[i] = bias_v_new\n",
    "            \n",
    "            children[i].bias.data = original_bias\n",
    "            children[i].bias.data -= bias_v_new\n",
    "            \n",
    "            #zero the gradients so that gradients dont get accumulate\n",
    "            net.zero_grad()\n",
    "            "
   ]
  },
  {
   "cell_type": "code",
   "execution_count": 17,
   "metadata": {},
   "outputs": [],
   "source": [
    "nesterov_losses_ = [(l.data.numpy()) for l in losses]\n",
    "nesterov_log_losses_ = [np.log(l) for l in nesterov_losses_]"
   ]
  },
  {
   "cell_type": "code",
   "execution_count": 18,
   "metadata": {},
   "outputs": [
    {
     "data": {
      "text/plain": [
       "<matplotlib.legend.Legend at 0x229f836a5c0>"
      ]
     },
     "execution_count": 18,
     "metadata": {},
     "output_type": "execute_result"
    },
    {
     "data": {
      "image/png": "[encoded data removed]",
      "text/plain": [
       "<Figure size 432x288 with 1 Axes>"
      ]
     },
     "metadata": {
      "needs_background": "light"
     },
     "output_type": "display_data"
    }
   ],
   "source": [
    "plt.plot(sgd_log_losses_)\n",
    "plt.plot(sgdmom_log_losses_)\n",
    "plt.plot(nesterov_log_losses_)\n",
    "title = plt.title(\"Evolution of Optimizers\")\n",
    "plt.legend(('SGD', 'SGD Momentum', 'Nesterov'))"
   ]
  },
  {
   "cell_type": "markdown",
   "metadata": {},
   "source": [
    "### Adagrad"
   ]
  },
  {
   "cell_type": "code",
   "execution_count": 27,
   "metadata": {},
   "outputs": [
    {
     "name": "stdout",
     "output_type": "stream",
     "text": [
      "epoch 0\n"
     ]
    },
    {
     "name": "stderr",
     "output_type": "stream",
     "text": [
      "C:\\Users\\Tushara\\Anaconda3\\lib\\site-packages\\ipykernel_launcher.py:37: UserWarning: Implicit dimension choice for log_softmax has been deprecated. Change the call to include dim=X as an argument.\n"
     ]
    },
    {
     "name": "stdout",
     "output_type": "stream",
     "text": [
      "epoch 1\n",
      "epoch 2\n"
     ]
    }
   ],
   "source": [
    "##train\n",
    "net = Network()\n",
    "net.to(device)\n",
    "\n",
    "epochs = 3 # set epohcs\n",
    "criterion = nn.NLLLoss() # define loss function\n",
    "losses = []\n",
    "net.train()\n",
    "\n",
    "lr = 0.01\n",
    "\n",
    "children = list(net.children())\n",
    "cache = [[torch.zeros(children[index].weight.shape), torch.zeros(children[index].bias.shape)] for index in range(len(children))]\n",
    "epsilon = 1e-8\n",
    "\n",
    "for epoch in range(epochs):\n",
    "    print('epoch {}'.format(epoch))\n",
    "    for idx, (images, labels) in enumerate(train_loader):\n",
    "        \n",
    "        #print(\"New batch {} \\n\\n\".format(idx))\n",
    "        images, labels = images.to(device), labels.to(device)\n",
    "        output = net(images)\n",
    "        loss = criterion(output, labels)\n",
    "        losses.append(loss)\n",
    "        loss.backward()\n",
    "        \n",
    "        children = list(net.children())\n",
    "        \n",
    "        #update weights\n",
    "        for i in range(len(cache)):\n",
    "            \n",
    "            #update weights\n",
    "            children[i].weight.data -= lr * (children[i].weight.grad.data / torch.sqrt(cache[i][0].data ) + epsilon)\n",
    "            children[i].bias.data -= lr * (children[i].bias.grad.data / torch.sqrt(cache[i][1].data) + epsilon)\n",
    "            \n",
    "            #update cache\n",
    "            cache[i][0].data += children[i].weight.grad.data * children[i].weight.grad.data\n",
    "            cache[i][1].data += children[i].bias.grad.data * children[i].bias.grad.data\n",
    "        \n",
    "            #zero the gradients so that gradients dont get accumulate\n",
    "            #print(\"set gradients zero\")\n",
    "            children[i].weight.grad.data.zero_()\n",
    "            children[i].bias.grad.data.zero_()"
   ]
  },
  {
   "cell_type": "code",
   "execution_count": 51,
   "metadata": {},
   "outputs": [
    {
     "data": {
      "text/plain": [
       "<function Tensor.new>"
      ]
     },
     "execution_count": 51,
     "metadata": {},
     "output_type": "execute_result"
    }
   ],
   "source": [
    "child.weight.grad.new"
   ]
  },
  {
   "cell_type": "code",
   "execution_count": null,
   "metadata": {},
   "outputs": [],
   "source": []
  },
  {
   "cell_type": "code",
   "execution_count": 30,
   "metadata": {},
   "outputs": [],
   "source": [
    "adagrad_losses_ = [(l.data.numpy()) for l in losses]\n",
    "adagrad_log_losses_ = [np.log(l) for l in adagrad_losses_]"
   ]
  },
  {
   "cell_type": "code",
   "execution_count": 31,
   "metadata": {},
   "outputs": [
    {
     "data": {
      "text/plain": [
       "<matplotlib.legend.Legend at 0x2382e45e390>"
      ]
     },
     "execution_count": 31,
     "metadata": {},
     "output_type": "execute_result"
    },
    {
     "data": {
      "image/png": "[encoded data removed]",
      "text/plain": [
       "<Figure size 432x288 with 1 Axes>"
      ]
     },
     "metadata": {
      "needs_background": "light"
     },
     "output_type": "display_data"
    }
   ],
   "source": [
    "plt.plot(sgd_losses_)\n",
    "plt.plot(sgdmom_losses_)\n",
    "#plt.plot(nesterov_losses_)\n",
    "plt.plot(adagrad_losses_)\n",
    "title = plt.title(\"Evolution of Optimizers\")\n",
    "plt.legend(('SGD', 'SGD Momentum', 'Adagrad'))"
   ]
  },
  {
   "cell_type": "markdown",
   "metadata": {},
   "source": [
    "### RMSprop"
   ]
  },
  {
   "cell_type": "code",
   "execution_count": null,
   "metadata": {},
   "outputs": [],
   "source": [
    "##train\n",
    "net = Network()\n",
    "net.to(device)\n",
    "\n",
    "epochs = 2 # set epohcs\n",
    "criterion = nn.NLLLoss() # define loss function\n",
    "losses = []\n",
    "net.train()\n",
    "\n",
    "lr = 0.01\n",
    "\n",
    "children = list(net.children())\n",
    "cache = [[torch.zeros(children[index].weight.shape), torch.zeros(children[index].bias.shape)] for index in range(len(children))]\n",
    "epsilon = 1e-8\n",
    "\n",
    "for epoch in range(epochs):\n",
    "    print('epoch {}'.format(epoch))\n",
    "    for idx, (images, labels) in enumerate(train_loader):\n",
    "        #weights = [(child.weight.data, child.bias.data) for child in net.children()]\n",
    "        images, labels = images.to(device), labels.to(device)\n",
    "        output = net(images)\n",
    "        loss = criterion(output, labels)\n",
    "        losses.append(loss)\n",
    "        loss.backward()\n",
    "        \n",
    "        children = list(net.children())\n",
    "        \n",
    "        #update weights\n",
    "        for i in range(len(cache)):\n",
    "            \n",
    "            #update weights\n",
    "            children[i].weight.data -= lr * (children[i].weight.grad.data / torch.sqrt(cache[i][0] + epsilon))\n",
    "            children[i].bias.data -= lr * (children[i].bias.grad.data / torch.sqrt(cache[i][1] + epsilon))\n",
    "            \n",
    "            #update cache\n",
    "            cache[i][0] += children[i].weight.grad.data * children[i].weight.grad.data\n",
    "            cache[i][1] += children[i].bias.grad.data * children[i].bias.grad.data\n",
    "            \n",
    "            #zero the gradients so that gradients dont get accumulate\n",
    "            #print(\"set gradients zero\")\n",
    "            if epoch is not 1:\n",
    "                children[i].weight.grad.data.zero_()\n",
    "                children[i].bias.grad.data.zero_()"
   ]
  },
  {
   "cell_type": "code",
   "execution_count": null,
   "metadata": {},
   "outputs": [],
   "source": [
    "1e-3"
   ]
  },
  {
   "cell_type": "code",
   "execution_count": null,
   "metadata": {},
   "outputs": [],
   "source": []
  },
  {
   "cell_type": "code",
   "execution_count": 40,
   "metadata": {},
   "outputs": [
    {
     "data": {
      "text/plain": [
       "tensor([[1, 0, 0],\n",
       "        [0, 1, 0],\n",
       "        [0, 0, 0]])"
      ]
     },
     "execution_count": 40,
     "metadata": {},
     "output_type": "execute_result"
    }
   ],
   "source": [
    "rand = torch.tensor([[1,0,0],[0,1,0], [0,0,0]])\n",
    "rand"
   ]
  },
  {
   "cell_type": "code",
   "execution_count": 46,
   "metadata": {},
   "outputs": [
    {
     "ename": "RuntimeError",
     "evalue": "coalesce is not implemented for type CPUType",
     "output_type": "error",
     "traceback": [
      "\u001b[1;31m---------------------------------------------------------------------------\u001b[0m",
      "\u001b[1;31mRuntimeError\u001b[0m                              Traceback (most recent call last)",
      "\u001b[1;32m<ipython-input-46-c9127e23963c>\u001b[0m in \u001b[0;36m<module>\u001b[1;34m()\u001b[0m\n\u001b[1;32m----> 1\u001b[1;33m \u001b[0mrand\u001b[0m\u001b[1;33m.\u001b[0m\u001b[0mcoalesce\u001b[0m\u001b[1;33m(\u001b[0m\u001b[1;33m)\u001b[0m\u001b[1;33m\u001b[0m\u001b[0m\n\u001b[0m",
      "\u001b[1;31mRuntimeError\u001b[0m: coalesce is not implemented for type CPUType"
     ]
    }
   ],
   "source": [
    "rand.coalesce()"
   ]
  },
  {
   "cell_type": "code",
   "execution_count": null,
   "metadata": {},
   "outputs": [],
   "source": []
  },
  {
   "cell_type": "code",
   "execution_count": null,
   "metadata": {},
   "outputs": [],
   "source": []
  },
  {
   "cell_type": "code",
   "execution_count": null,
   "metadata": {},
   "outputs": [],
   "source": []
  }
 ],
 "metadata": {
  "kernelspec": {
   "display_name": "Python 3",
   "language": "python",
   "name": "python3"
  },
  "language_info": {
   "codemirror_mode": {
    "name": "ipython",
    "version": 3
   },
   "file_extension": ".py",
   "mimetype": "text/x-python",
   "name": "python",
   "nbconvert_exporter": "python",
   "pygments_lexer": "ipython3",
   "version": "3.7.0"
  }
 },
 "nbformat": 4,
 "nbformat_minor": 2
}
