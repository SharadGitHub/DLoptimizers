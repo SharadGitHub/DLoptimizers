{
 "cells": [
  {
   "cell_type": "markdown",
   "metadata": {},
   "source": [
    "## Optimizers"
   ]
  },
  {
   "cell_type": "code",
   "execution_count": 1,
   "metadata": {},
   "outputs": [],
   "source": [
    "import torch\n",
    "import numpy as np\n",
    "import torch.nn as nn\n",
    "import torchvision.datasets as datasets\n",
    "import torchvision.transforms as transforms\n",
    "import matplotlib.pyplot as plt\n",
    "import torch.nn.functional as F\n",
    "import torch.optim as optim\n",
    "import pdb\n",
    "import matplotlib.pyplot as plt\n",
    "import matplotlib\n",
    "%matplotlib inline\n",
    "matplotlib.rcParams['figure.figsize'] = 15, 7"
   ]
  },
  {
   "cell_type": "code",
   "execution_count": 2,
   "metadata": {},
   "outputs": [
    {
     "data": {
      "text/plain": [
       "device(type='cpu')"
      ]
     },
     "execution_count": 2,
     "metadata": {},
     "output_type": "execute_result"
    }
   ],
   "source": [
    "device = torch.device(\"cuda:0\" if torch.cuda.is_available() else \"cpu\")\n",
    "device"
   ]
  },
  {
   "cell_type": "code",
   "execution_count": 3,
   "metadata": {},
   "outputs": [],
   "source": [
    "# load data from torchvision module\n",
    "train_set = datasets.MNIST(\n",
    "    root = './data',\n",
    "    train = True,\n",
    "    download = True,\n",
    "    transform = transforms.Compose([transforms.ToTensor(), transforms.Normalize((0.1307,), (0.3081,))])\n",
    ")\n",
    "\n",
    "test_set = datasets.MNIST(\n",
    "    root= './data',\n",
    "    train= False,\n",
    "    download = True,\n",
    "    transform = transforms.Compose([transforms.ToTensor(), transforms.Normalize((0.1307,), (0.3081,))])\n",
    ")"
   ]
  },
  {
   "cell_type": "code",
   "execution_count": 4,
   "metadata": {},
   "outputs": [],
   "source": [
    "train_loader = torch.utils.data.DataLoader(train_set, batch_size= 256)\n"
   ]
  },
  {
   "cell_type": "code",
   "execution_count": 5,
   "metadata": {},
   "outputs": [],
   "source": [
    "class Network(nn.Module):\n",
    "    \n",
    "    def __init__(self):\n",
    "        super(Network, self).__init__()\n",
    "        self.conv1 = nn.Conv2d(in_channels=1, out_channels= 6, kernel_size= 5, stride= 1)\n",
    "        self.conv2 = nn.Conv2d(in_channels=6, out_channels= 12, kernel_size=5, stride = 1)\n",
    "        \n",
    "        self.fc1= nn.Linear(in_features=12*4*4, out_features=120)\n",
    "        self.fc2 = nn.Linear(in_features=120, out_features= 60)\n",
    "        self.out = nn.Linear(in_features=60, out_features=10)\n",
    "        \n",
    "    def forward(self, t):\n",
    "         # first hidden conv layer\n",
    "        t = self.conv1(t)\n",
    "        t = F.relu(t)\n",
    "        t = F.max_pool2d(t, kernel_size= 2, stride= 2)\n",
    "        \n",
    "        # second hidden conv layer\n",
    "        t = self.conv2(t)\n",
    "        t = F.relu(t)\n",
    "        t = F.max_pool2d(t, kernel_size= 2, stride= 2)\n",
    "        \n",
    "        # first linear layer \n",
    "        t = t.reshape(-1, 12*4*4)\n",
    "        t = self.fc1(t)\n",
    "        t = F.relu(t)\n",
    "        \n",
    "        #second linear layer\n",
    "        t = self.fc2(t)\n",
    "        t = F.relu(t)\n",
    "        \n",
    "        #output layer\n",
    "        t = self.out(t)\n",
    "        #ideally here we would use softmax function but since we are going to use cross entropy loss, softmax\n",
    "        # is not explicitly required \n",
    "        \n",
    "        return F.log_softmax(t)"
   ]
  },
  {
   "cell_type": "markdown",
   "metadata": {},
   "source": [
    "### Vanilla SGD"
   ]
  },
  {
   "cell_type": "code",
   "execution_count": 13,
   "metadata": {},
   "outputs": [
    {
     "name": "stdout",
     "output_type": "stream",
     "text": [
      "epoch 0\n"
     ]
    },
    {
     "name": "stderr",
     "output_type": "stream",
     "text": [
      "C:\\Users\\Tushara\\Anaconda3\\lib\\site-packages\\ipykernel_launcher.py:37: UserWarning: Implicit dimension choice for log_softmax has been deprecated. Change the call to include dim=X as an argument.\n"
     ]
    },
    {
     "name": "stdout",
     "output_type": "stream",
     "text": [
      "epoch 1\n",
      "epoch 2\n"
     ]
    }
   ],
   "source": [
    "##train\n",
    "net = Network()\n",
    "net.to(device)\n",
    "\n",
    "epochs = 3 # set epohcs\n",
    "criterion = nn.NLLLoss() # define loss function\n",
    "losses = []\n",
    "net.train()\n",
    "lr = 0.01\n",
    "#weights = [(child.weight.data, child.bias.data) for child in net.children()]\n",
    "\n",
    "for epoch in range(epochs):\n",
    "    print('epoch {}'.format(epoch))\n",
    "    for idx, (images, labels) in enumerate(train_loader):\n",
    "        #weights = [(child.weight.data, child.bias.data) for child in net.children()]\n",
    "        images, labels = images.to(device), labels.to(device)\n",
    "        output = net(images)\n",
    "        loss = criterion(output, labels)\n",
    "        losses.append(loss)\n",
    "        loss.backward()\n",
    "        \n",
    "        \n",
    "        for child in net.children():\n",
    "            child.weight.data -= lr * child.weight.grad.data\n",
    "            child.bias.data -= lr * child.bias.grad.data\n",
    "        \n",
    "            #zero the gradients so that gradients dont get accumulate\n",
    "            #print(\"set gradients zero\")\n",
    "            child.weight.grad.data.zero_()\n",
    "            child.bias.grad.data.zero_()"
   ]
  },
  {
   "cell_type": "code",
   "execution_count": 14,
   "metadata": {},
   "outputs": [],
   "source": [
    "sgd_losses_ = [(l.data.item()) for l in losses]\n",
    "sgd_log_losses_ = [np.log(l) for l in sgd_losses_]"
   ]
  },
  {
   "cell_type": "code",
   "execution_count": 15,
   "metadata": {},
   "outputs": [
    {
     "data": {
      "image/png": "[encoded data removed]",
      "text/plain": [
       "<Figure size 432x288 with 1 Axes>"
      ]
     },
     "metadata": {
      "needs_background": "light"
     },
     "output_type": "display_data"
    }
   ],
   "source": [
    "plt.plot(sgd_losses_)\n",
    "title = plt.title(\"Vanilla SGD\")"
   ]
  },
  {
   "cell_type": "code",
   "execution_count": null,
   "metadata": {},
   "outputs": [],
   "source": []
  },
  {
   "cell_type": "markdown",
   "metadata": {},
   "source": [
    "### SGD with Momentum"
   ]
  },
  {
   "cell_type": "code",
   "execution_count": 9,
   "metadata": {},
   "outputs": [
    {
     "name": "stdout",
     "output_type": "stream",
     "text": [
      "epoch 0\n"
     ]
    },
    {
     "name": "stderr",
     "output_type": "stream",
     "text": [
      "C:\\Users\\Tushara\\Anaconda3\\lib\\site-packages\\ipykernel_launcher.py:37: UserWarning: Implicit dimension choice for log_softmax has been deprecated. Change the call to include dim=X as an argument.\n"
     ]
    },
    {
     "name": "stdout",
     "output_type": "stream",
     "text": [
      "epoch 1\n",
      "epoch 2\n"
     ]
    }
   ],
   "source": [
    "##train\n",
    "net = Network()\n",
    "net.to(device)\n",
    "\n",
    "epochs = 3 # set epohcs\n",
    "criterion = nn.NLLLoss() # define loss function\n",
    "losses = []\n",
    "net.train()\n",
    "\n",
    "lr = 0.001\n",
    "gamma = 0.9\n",
    "weight_v_prev = [0 for i in range(5)]\n",
    "bias_v_prev = [0 for i in range(5)]\n",
    "\n",
    "\n",
    "for epoch in range(epochs):\n",
    "    print('epoch {}'.format(epoch))\n",
    "    for idx, (images, labels) in enumerate(train_loader):\n",
    "        #weights = [(child.weight.data, child.bias.data) for child in net.children()]\n",
    "        images, labels = images.to(device), labels.to(device)\n",
    "        output = net(images)\n",
    "        loss = criterion(output, labels)\n",
    "        losses.append(loss)\n",
    "        loss.backward()\n",
    "        \n",
    "        children = list(net.children())\n",
    "        \n",
    "        #update weights\n",
    "        for i in range(len(weight_v_prev)):\n",
    "            \n",
    "            #print(\"Gradients\\n\" ,children[i].weight.grad.data)\n",
    "            weight_v_new = gamma * weight_v_prev[i] + lr * children[i].weight.grad.data\n",
    "            bias_v_new = gamma * bias_v_prev[i] + lr * children[i].bias.grad.data\n",
    "            \n",
    "            weight_v_prev[i] = weight_v_new\n",
    "            bias_v_prev[i] = bias_v_new\n",
    "            \n",
    "            children[i].weight.data -= weight_v_new\n",
    "            children[i].bias.data -= bias_v_new\n",
    "            \n",
    "            #zero the gradients so that gradients dont get accumulate\n",
    "            #print(\"set gradients zero\")\n",
    "            children[i].weight.grad.data.zero_()\n",
    "            children[i].bias.grad.data.zero_()"
   ]
  },
  {
   "cell_type": "code",
   "execution_count": 10,
   "metadata": {},
   "outputs": [],
   "source": [
    "sgdmom_losses_ = [(l.data.numpy()) for l in losses]\n",
    "sgdmom_log_losses_ = [np.log(l) for l in sgdmom_losses_]"
   ]
  },
  {
   "cell_type": "code",
   "execution_count": 17,
   "metadata": {},
   "outputs": [
    {
     "data": {
      "text/plain": [
       "<matplotlib.legend.Legend at 0x2382e538da0>"
      ]
     },
     "execution_count": 17,
     "metadata": {},
     "output_type": "execute_result"
    },
    {
     "data": {
      "image/png": "[encoded data removed]",
      "text/plain": [
       "<Figure size 432x288 with 1 Axes>"
      ]
     },
     "metadata": {
      "needs_background": "light"
     },
     "output_type": "display_data"
    }
   ],
   "source": [
    "plt.plot(sgd_losses_)\n",
    "plt.plot(sgdmom_losses_)\n",
    "title = plt.title(\"Evolution of Optimizers\")\n",
    "plt.legend(('SGD', 'SGD Momentum'))"
   ]
  },
  {
   "cell_type": "markdown",
   "metadata": {},
   "source": [
    "### Adagrad"
   ]
  },
  {
   "cell_type": "code",
   "execution_count": 27,
   "metadata": {},
   "outputs": [
    {
     "name": "stdout",
     "output_type": "stream",
     "text": [
      "epoch 0\n"
     ]
    },
    {
     "name": "stderr",
     "output_type": "stream",
     "text": [
      "C:\\Users\\Tushara\\Anaconda3\\lib\\site-packages\\ipykernel_launcher.py:37: UserWarning: Implicit dimension choice for log_softmax has been deprecated. Change the call to include dim=X as an argument.\n"
     ]
    },
    {
     "name": "stdout",
     "output_type": "stream",
     "text": [
      "epoch 1\n",
      "epoch 2\n"
     ]
    }
   ],
   "source": [
    "##train\n",
    "net = Network()\n",
    "net.to(device)\n",
    "\n",
    "epochs = 3 # set epohcs\n",
    "criterion = nn.NLLLoss() # define loss function\n",
    "losses = []\n",
    "net.train()\n",
    "\n",
    "lr = 0.01\n",
    "\n",
    "children = list(net.children())\n",
    "cache = [[torch.zeros(children[index].weight.shape), torch.zeros(children[index].bias.shape)] for index in range(len(children))]\n",
    "epsilon = 1e-8\n",
    "\n",
    "for epoch in range(epochs):\n",
    "    print('epoch {}'.format(epoch))\n",
    "    for idx, (images, labels) in enumerate(train_loader):\n",
    "        \n",
    "        #print(\"New batch {} \\n\\n\".format(idx))\n",
    "        images, labels = images.to(device), labels.to(device)\n",
    "        output = net(images)\n",
    "        loss = criterion(output, labels)\n",
    "        losses.append(loss)\n",
    "        loss.backward()\n",
    "        \n",
    "        children = list(net.children())\n",
    "        \n",
    "        #update weights\n",
    "        for i in range(len(cache)):\n",
    "            \n",
    "            #update weights\n",
    "            children[i].weight.data -= lr * (children[i].weight.grad.data / torch.sqrt(cache[i][0].data ) + epsilon)\n",
    "            children[i].bias.data -= lr * (children[i].bias.grad.data / torch.sqrt(cache[i][1].data) + epsilon)\n",
    "            \n",
    "            #update cache\n",
    "            cache[i][0].data += children[i].weight.grad.data * children[i].weight.grad.data\n",
    "            cache[i][1].data += children[i].bias.grad.data * children[i].bias.grad.data\n",
    "        \n",
    "            #zero the gradients so that gradients dont get accumulate\n",
    "            #print(\"set gradients zero\")\n",
    "            children[i].weight.grad.data.zero_()\n",
    "            children[i].bias.grad.data.zero_()"
   ]
  },
  {
   "cell_type": "code",
   "execution_count": 51,
   "metadata": {},
   "outputs": [
    {
     "data": {
      "text/plain": [
       "<function Tensor.new>"
      ]
     },
     "execution_count": 51,
     "metadata": {},
     "output_type": "execute_result"
    }
   ],
   "source": [
    "child.weight.grad.new"
   ]
  },
  {
   "cell_type": "code",
   "execution_count": null,
   "metadata": {},
   "outputs": [],
   "source": []
  },
  {
   "cell_type": "code",
   "execution_count": 30,
   "metadata": {},
   "outputs": [],
   "source": [
    "adagrad_losses_ = [(l.data.numpy()) for l in losses]\n",
    "adagrad_log_losses_ = [np.log(l) for l in adagrad_losses_]"
   ]
  },
  {
   "cell_type": "code",
   "execution_count": 31,
   "metadata": {},
   "outputs": [
    {
     "data": {
      "text/plain": [
       "<matplotlib.legend.Legend at 0x2382e45e390>"
      ]
     },
     "execution_count": 31,
     "metadata": {},
     "output_type": "execute_result"
    },
    {
     "data": {
      "image/png": "[encoded data removed]",
      "text/plain": [
       "<Figure size 432x288 with 1 Axes>"
      ]
     },
     "metadata": {
      "needs_background": "light"
     },
     "output_type": "display_data"
    }
   ],
   "source": [
    "plt.plot(sgd_losses_)\n",
    "plt.plot(sgdmom_losses_)\n",
    "#plt.plot(nesterov_losses_)\n",
    "plt.plot(adagrad_losses_)\n",
    "title = plt.title(\"Evolution of Optimizers\")\n",
    "plt.legend(('SGD', 'SGD Momentum', 'Adagrad'))"
   ]
  },
  {
   "cell_type": "markdown",
   "metadata": {},
   "source": [
    "### RMSprop"
   ]
  },
  {
   "cell_type": "code",
   "execution_count": null,
   "metadata": {},
   "outputs": [],
   "source": [
    "##train\n",
    "net = Network()\n",
    "net.to(device)\n",
    "\n",
    "epochs = 2 # set epohcs\n",
    "criterion = nn.NLLLoss() # define loss function\n",
    "losses = []\n",
    "net.train()\n",
    "\n",
    "lr = 0.01\n",
    "\n",
    "children = list(net.children())\n",
    "cache = [[torch.zeros(children[index].weight.shape), torch.zeros(children[index].bias.shape)] for index in range(len(children))]\n",
    "epsilon = 1e-8\n",
    "\n",
    "for epoch in range(epochs):\n",
    "    print('epoch {}'.format(epoch))\n",
    "    for idx, (images, labels) in enumerate(train_loader):\n",
    "        #weights = [(child.weight.data, child.bias.data) for child in net.children()]\n",
    "        images, labels = images.to(device), labels.to(device)\n",
    "        output = net(images)\n",
    "        loss = criterion(output, labels)\n",
    "        losses.append(loss)\n",
    "        loss.backward()\n",
    "        \n",
    "        children = list(net.children())\n",
    "        \n",
    "        #update weights\n",
    "        for i in range(len(cache)):\n",
    "            \n",
    "            #update weights\n",
    "            children[i].weight.data -= lr * (children[i].weight.grad.data / torch.sqrt(cache[i][0] + epsilon))\n",
    "            children[i].bias.data -= lr * (children[i].bias.grad.data / torch.sqrt(cache[i][1] + epsilon))\n",
    "            \n",
    "            #update cache\n",
    "            cache[i][0] += children[i].weight.grad.data * children[i].weight.grad.data\n",
    "            cache[i][1] += children[i].bias.grad.data * children[i].bias.grad.data\n",
    "            \n",
    "            #zero the gradients so that gradients dont get accumulate\n",
    "            #print(\"set gradients zero\")\n",
    "            if epoch is not 1:\n",
    "                children[i].weight.grad.data.zero_()\n",
    "                children[i].bias.grad.data.zero_()"
   ]
  },
  {
   "cell_type": "code",
   "execution_count": null,
   "metadata": {},
   "outputs": [],
   "source": [
    "1e-3"
   ]
  },
  {
   "cell_type": "code",
   "execution_count": null,
   "metadata": {},
   "outputs": [],
   "source": []
  },
  {
   "cell_type": "code",
   "execution_count": 40,
   "metadata": {},
   "outputs": [
    {
     "data": {
      "text/plain": [
       "tensor([[1, 0, 0],\n",
       "        [0, 1, 0],\n",
       "        [0, 0, 0]])"
      ]
     },
     "execution_count": 40,
     "metadata": {},
     "output_type": "execute_result"
    }
   ],
   "source": [
    "rand = torch.tensor([[1,0,0],[0,1,0], [0,0,0]])\n",
    "rand"
   ]
  },
  {
   "cell_type": "code",
   "execution_count": 46,
   "metadata": {},
   "outputs": [
    {
     "ename": "RuntimeError",
     "evalue": "coalesce is not implemented for type CPUType",
     "output_type": "error",
     "traceback": [
      "\u001b[1;31m---------------------------------------------------------------------------\u001b[0m",
      "\u001b[1;31mRuntimeError\u001b[0m                              Traceback (most recent call last)",
      "\u001b[1;32m<ipython-input-46-c9127e23963c>\u001b[0m in \u001b[0;36m<module>\u001b[1;34m()\u001b[0m\n\u001b[1;32m----> 1\u001b[1;33m \u001b[0mrand\u001b[0m\u001b[1;33m.\u001b[0m\u001b[0mcoalesce\u001b[0m\u001b[1;33m(\u001b[0m\u001b[1;33m)\u001b[0m\u001b[1;33m\u001b[0m\u001b[0m\n\u001b[0m",
      "\u001b[1;31mRuntimeError\u001b[0m: coalesce is not implemented for type CPUType"
     ]
    }
   ],
   "source": [
    "rand.coalesce()"
   ]
  },
  {
   "cell_type": "code",
   "execution_count": null,
   "metadata": {},
   "outputs": [],
   "source": []
  },
  {
   "cell_type": "code",
   "execution_count": null,
   "metadata": {},
   "outputs": [],
   "source": []
  },
  {
   "cell_type": "code",
   "execution_count": null,
   "metadata": {},
   "outputs": [],
   "source": []
  }
 ],
 "metadata": {
  "kernelspec": {
   "display_name": "Python 3",
   "language": "python",
   "name": "python3"
  },
  "language_info": {
   "codemirror_mode": {
    "name": "ipython",
    "version": 3
   },
   "file_extension": ".py",
   "mimetype": "text/x-python",
   "name": "python",
   "nbconvert_exporter": "python",
   "pygments_lexer": "ipython3",
   "version": "3.7.0"
  }
 },
 "nbformat": 4,
 "nbformat_minor": 2
}
